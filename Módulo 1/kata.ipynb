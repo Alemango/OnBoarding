{
 "cells": [
  {
   "cell_type": "markdown",
   "metadata": {},
   "source": [
    "## Mostrar la fecha de hoy"
   ]
  },
  {
   "cell_type": "code",
   "execution_count": 2,
   "metadata": {},
   "outputs": [
    {
     "name": "stdout",
     "output_type": "stream",
     "text": [
      "Today's date is: 2022-02-07\n"
     ]
    }
   ],
   "source": [
    "from datetime import date\n",
    "\n",
    "fecha = date.today()\n",
    "\n",
    "print(\"Today's date is: \" + str(fecha))"
   ]
  },
  {
   "cell_type": "markdown",
   "metadata": {},
   "source": [
    "## Convertidor Parsecs-Años Luz"
   ]
  },
  {
   "cell_type": "code",
   "execution_count": 10,
   "metadata": {},
   "outputs": [
    {
     "name": "stdout",
     "output_type": "stream",
     "text": [
      "¿Convertirás de años luz a parsecs(1) o de parsecs a años luz(2)?\n",
      "Ingresa 1 o 2 según tu elección:\n",
      "Ingresa los años luz a convertir: \n",
      "Los parsecs equivalentes son: 1.0\n"
     ]
    }
   ],
   "source": [
    "print(\"¿Convertirás de años luz a parsecs(1) o de parsecs a años luz(2)?\")\n",
    "print(\"Ingresa 1 o 2 según tu elección:\")\n",
    "\n",
    "eleccion = int(input())\n",
    "\n",
    "if eleccion == 1:\n",
    "    print(\"Ingresa los años luz a convertir: \")\n",
    "    luz = float(input())\n",
    "\n",
    "    print(\"Los parsecs equivalentes son: \" + str(luz/3.26156))\n",
    "\n",
    "elif eleccion == 2:\n",
    "    print(\"Ingresa los parsecs a convertir: \")\n",
    "    parsec = float(input())\n",
    "\n",
    "    print(\"Los años luz equivalentes son: \" + str(parsec*3.26156))\n",
    "\n",
    "else:\n",
    "    print(\"Error\")\n"
   ]
  }
 ],
 "metadata": {
  "interpreter": {
   "hash": "5b56719b00283e46ec7c1fbbacff06794e919bd42b05929c3782a6c63b4f5cc8"
  },
  "kernelspec": {
   "display_name": "Python 3.7.9 64-bit (windows store)",
   "language": "python",
   "name": "python3"
  },
  "language_info": {
   "codemirror_mode": {
    "name": "ipython",
    "version": 3
   },
   "file_extension": ".py",
   "mimetype": "text/x-python",
   "name": "python",
   "nbconvert_exporter": "python",
   "pygments_lexer": "ipython3",
   "version": "3.9.7"
  },
  "orig_nbformat": 4
 },
 "nbformat": 4,
 "nbformat_minor": 2
}
